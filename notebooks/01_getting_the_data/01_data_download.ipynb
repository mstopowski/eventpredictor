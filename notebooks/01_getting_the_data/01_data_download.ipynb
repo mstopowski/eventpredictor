{
 "cells": [
  {
   "cell_type": "markdown",
   "metadata": {},
   "source": [
    "# Imports"
   ]
  },
  {
   "cell_type": "code",
   "execution_count": 1,
   "metadata": {},
   "outputs": [],
   "source": [
    "import os\n",
    "import sys\n",
    "import glob\n",
    "import datetime\n",
    "\n",
    "import pandas as pd"
   ]
  },
  {
   "cell_type": "code",
   "execution_count": 2,
   "metadata": {},
   "outputs": [
    {
     "name": "stderr",
     "output_type": "stream",
     "text": [
      "\u001b[32m2024-05-31 13:32:40.645\u001b[0m | \u001b[1mINFO    \u001b[0m | \u001b[36mconfig\u001b[0m:\u001b[36m<module>\u001b[0m:\u001b[36m11\u001b[0m - \u001b[1mPROJ_ROOT path is: /Users/maurycystopowski/Documents/Stuff/Projects/eventpredictor\u001b[0m\n",
      "\u001b[32m2024-05-31 13:32:40.652\u001b[0m | \u001b[1mINFO    \u001b[0m | \u001b[36meventpredictor.config\u001b[0m:\u001b[36m<module>\u001b[0m:\u001b[36m11\u001b[0m - \u001b[1mPROJ_ROOT path is: /Users/maurycystopowski/Documents/Stuff/Projects/eventpredictor\u001b[0m\n"
     ]
    }
   ],
   "source": [
    "sys.path.append(os.path.abspath('../../'))\n",
    "sys.path.append(os.path.abspath('../../eventpredictor'))\n",
    "\n",
    "from eventpredictor.config import RAW_DATA_DIR\n",
    "from eventpredictor.data.download_data import FootballScraper"
   ]
  },
  {
   "cell_type": "markdown",
   "metadata": {},
   "source": [
    "# Downloading data"
   ]
  },
  {
   "cell_type": "code",
   "execution_count": 3,
   "metadata": {},
   "outputs": [],
   "source": [
    "fs = FootballScraper(\n",
    "    start_date=datetime.date(2015, 5, 31),\n",
    "    end_date=datetime.date(2024, 1, 31),\n",
    "    raw_data_dir=RAW_DATA_DIR\n",
    ")"
   ]
  },
  {
   "cell_type": "markdown",
   "metadata": {},
   "source": [
    "## Events"
   ]
  },
  {
   "cell_type": "code",
   "execution_count": 4,
   "metadata": {},
   "outputs": [
    {
     "name": "stderr",
     "output_type": "stream",
     "text": [
      "/Users/maurycystopowski/Documents/Stuff/Projects/eventpredictor/eventpredictor/data/download_data.py:52: DtypeWarning: Columns (13,33,34,36,37,42,124,131,132,133,134,135,136,137,140,143,144,145,146,147,148,149,152,153,154,157,158,159,160,161,162,163,164,165,166,167,170,171,172,175,176,177,178,179,180,181,182,183) have mixed types. Specify dtype option on import or set low_memory=False.\n",
      "  temp_list.append(pd.read_csv(file))\n"
     ]
    }
   ],
   "source": [
    "fs.download_events()\n",
    "fs.convert_events()\n",
    "fs.combine_events()"
   ]
  },
  {
   "cell_type": "markdown",
   "metadata": {},
   "source": [
    "## Odds"
   ]
  },
  {
   "cell_type": "code",
   "execution_count": 5,
   "metadata": {},
   "outputs": [],
   "source": [
    "fs.download_odds()\n",
    "fs.conert_odds()\n",
    "fs.combine_odds()"
   ]
  },
  {
   "cell_type": "markdown",
   "metadata": {},
   "source": [
    "## Filtering events"
   ]
  },
  {
   "cell_type": "code",
   "execution_count": 6,
   "metadata": {},
   "outputs": [
    {
     "name": "stdout",
     "output_type": "stream",
     "text": [
      "File exists already.\n"
     ]
    }
   ],
   "source": [
    "countries_to_remove = {\n",
    "    'africa',\n",
    "    'asia',\n",
    "    'esoccer',\n",
    "    'europe',\n",
    "    'international',\n",
    "    'north-central-america',\n",
    "    'oceania',\n",
    "    'simulated-reality-women',\n",
    "    'south-africa',\n",
    "    'south-america',\n",
    "    'world'\n",
    "}\n",
    "\n",
    "status_to_keep = ['Ended']\n",
    "\n",
    "fs.generate_download_file(\n",
    "    countries_to_remove=countries_to_remove,\n",
    "    status_to_keep=status_to_keep\n",
    ")"
   ]
  },
  {
   "cell_type": "markdown",
   "metadata": {},
   "source": [
    "## Statistics"
   ]
  },
  {
   "cell_type": "code",
   "execution_count": 7,
   "metadata": {},
   "outputs": [],
   "source": [
    "fs.download_statistics()\n",
    "fs.convert_statistics()\n",
    "fs.combine_statistics()"
   ]
  },
  {
   "cell_type": "markdown",
   "metadata": {},
   "source": [
    "## Incidents"
   ]
  },
  {
   "cell_type": "code",
   "execution_count": 8,
   "metadata": {},
   "outputs": [],
   "source": [
    "fs.download_incidents()\n",
    "fs.convert_incidents()\n",
    "fs.combine_incidents()"
   ]
  },
  {
   "cell_type": "markdown",
   "metadata": {},
   "source": [
    "## Lineups"
   ]
  },
  {
   "cell_type": "code",
   "execution_count": 9,
   "metadata": {},
   "outputs": [],
   "source": [
    "fs.download_lineups()\n",
    "fs.convert_lineups()\n",
    "fs.combine_lineups()"
   ]
  },
  {
   "cell_type": "markdown",
   "metadata": {},
   "source": [
    "# What has been downloaded?"
   ]
  },
  {
   "cell_type": "code",
   "execution_count": 10,
   "metadata": {},
   "outputs": [
    {
     "name": "stdout",
     "output_type": "stream",
     "text": [
      "Number of downloaded scheduled_events [json]: 3168\n",
      "Number of downloaded scheduled_events [csv]: 3168\n",
      "Number of downloaded odds [json]: 3168\n",
      "Number of downloaded odds [csv]: 3168\n",
      "Number of downloaded statistics [json]: 99771\n",
      "Number of downloaded statistics [csv]: 99771\n",
      "Number of downloaded incidents [json]: 170572\n",
      "Number of downloaded incidents [csv]: 170572\n",
      "Number of downloaded lineups [json]: 125401\n",
      "Number of downloaded lineups [csv]: 73577\n"
     ]
    }
   ],
   "source": [
    "print(f\"Number of downloaded scheduled_events [json]: {len(glob.glob(os.path.join(fs.scheduled_events_json, '*')))}\")\n",
    "print(f\"Number of downloaded scheduled_events [csv]: {len(glob.glob(os.path.join(fs.scheduled_events_csv, '*')))}\")\n",
    "\n",
    "print(f\"Number of downloaded odds [json]: {len(glob.glob(os.path.join(fs.odds_json, '*')))}\")\n",
    "print(f\"Number of downloaded odds [csv]: {len(glob.glob(os.path.join(fs.odds_csv, '*')))}\")\n",
    "\n",
    "print(f\"Number of downloaded statistics [json]: {len(glob.glob(os.path.join(fs.statistics_json, '*')))}\")\n",
    "print(f\"Number of downloaded statistics [csv]: {len(glob.glob(os.path.join(fs.statistics_csv, '*')))}\")\n",
    "\n",
    "print(f\"Number of downloaded incidents [json]: {len(glob.glob(os.path.join(fs.incidents_json, '*')))}\")\n",
    "print(f\"Number of downloaded incidents [csv]: {len(glob.glob(os.path.join(fs.incidents_csv, '*')))}\")\n",
    "\n",
    "print(f\"Number of downloaded lineups [json]: {len(glob.glob(os.path.join(fs.lineups_json, '*')))}\")\n",
    "print(f\"Number of downloaded lineups [csv]: {len(glob.glob(os.path.join(fs.lineups_csv, '*')))}\")"
   ]
  }
 ],
 "metadata": {
  "kernelspec": {
   "display_name": "venv",
   "language": "python",
   "name": "python3"
  },
  "language_info": {
   "codemirror_mode": {
    "name": "ipython",
    "version": 3
   },
   "file_extension": ".py",
   "mimetype": "text/x-python",
   "name": "python",
   "nbconvert_exporter": "python",
   "pygments_lexer": "ipython3",
   "version": "3.10.11"
  }
 },
 "nbformat": 4,
 "nbformat_minor": 2
}
