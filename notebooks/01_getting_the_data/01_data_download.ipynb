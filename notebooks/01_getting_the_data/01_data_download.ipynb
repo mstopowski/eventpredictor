{
 "cells": [
  {
   "cell_type": "code",
   "execution_count": 1,
   "metadata": {},
   "outputs": [],
   "source": [
    "import os\n",
    "import sys\n",
    "import datetime"
   ]
  },
  {
   "cell_type": "code",
   "execution_count": 2,
   "metadata": {},
   "outputs": [
    {
     "name": "stderr",
     "output_type": "stream",
     "text": [
      "\u001b[32m2024-05-29 14:04:13.088\u001b[0m | \u001b[1mINFO    \u001b[0m | \u001b[36mconfig\u001b[0m:\u001b[36m<module>\u001b[0m:\u001b[36m11\u001b[0m - \u001b[1mPROJ_ROOT path is: /Users/maurycystopowski/Documents/Stuff/Projects/eventpredictor\u001b[0m\n"
     ]
    },
    {
     "name": "stderr",
     "output_type": "stream",
     "text": [
      "\u001b[32m2024-05-29 14:04:13.096\u001b[0m | \u001b[1mINFO    \u001b[0m | \u001b[36meventpredictor.config\u001b[0m:\u001b[36m<module>\u001b[0m:\u001b[36m11\u001b[0m - \u001b[1mPROJ_ROOT path is: /Users/maurycystopowski/Documents/Stuff/Projects/eventpredictor\u001b[0m\n"
     ]
    }
   ],
   "source": [
    "sys.path.append(os.path.abspath('../../'))\n",
    "sys.path.append(os.path.abspath('../../eventpredictor'))\n",
    "\n",
    "from eventpredictor.config import RAW_DATA_DIR\n",
    "from eventpredictor.data.download_data import FootballScraper"
   ]
  },
  {
   "cell_type": "code",
   "execution_count": 3,
   "metadata": {},
   "outputs": [],
   "source": [
    "fs = FootballScraper(\n",
    "    start_date=datetime.date(2015, 5, 31),\n",
    "    end_date=datetime.date(2024, 1, 31),\n",
    "    raw_data_dir=RAW_DATA_DIR\n",
    ")"
   ]
  },
  {
   "cell_type": "code",
   "execution_count": 4,
   "metadata": {},
   "outputs": [],
   "source": [
    "fs.download_events()\n",
    "fs.convert_events()\n",
    "fs.combine_events()"
   ]
  },
  {
   "cell_type": "code",
   "execution_count": 5,
   "metadata": {},
   "outputs": [],
   "source": [
    "fs.download_odds()\n",
    "fs.conert_odds()\n",
    "fs.combine_odds()"
   ]
  },
  {
   "cell_type": "code",
   "execution_count": 9,
   "metadata": {},
   "outputs": [],
   "source": [
    "import pandas as pd"
   ]
  },
  {
   "cell_type": "code",
   "execution_count": 57,
   "metadata": {},
   "outputs": [],
   "source": [
    "cols_to_select = [\n",
    "    'id',\n",
    "    'tournament_slug',\n",
    "    'tournament_category_slug',\n",
    "    'status_description',\n",
    "    'status_type',\n",
    "]\n",
    "\n",
    "events_df = pd.read_csv(os.path.join(fs.scheduled_events, 'scheduled_events.csv'), usecols=cols_to_select)"
   ]
  },
  {
   "cell_type": "code",
   "execution_count": 58,
   "metadata": {},
   "outputs": [
    {
     "data": {
      "text/plain": [
       "(473192, 5)"
      ]
     },
     "execution_count": 58,
     "metadata": {},
     "output_type": "execute_result"
    }
   ],
   "source": [
    "events_df = events_df.drop_duplicates()\n",
    "events_df.shape"
   ]
  },
  {
   "cell_type": "code",
   "execution_count": 59,
   "metadata": {},
   "outputs": [
    {
     "data": {
      "text/html": [
       "<div>\n",
       "<style scoped>\n",
       "    .dataframe tbody tr th:only-of-type {\n",
       "        vertical-align: middle;\n",
       "    }\n",
       "\n",
       "    .dataframe tbody tr th {\n",
       "        vertical-align: top;\n",
       "    }\n",
       "\n",
       "    .dataframe thead th {\n",
       "        text-align: right;\n",
       "    }\n",
       "</style>\n",
       "<table border=\"1\" class=\"dataframe\">\n",
       "  <thead>\n",
       "    <tr style=\"text-align: right;\">\n",
       "      <th></th>\n",
       "      <th>id</th>\n",
       "      <th>tournament_slug</th>\n",
       "      <th>tournament_category_slug</th>\n",
       "      <th>status_description</th>\n",
       "      <th>status_type</th>\n",
       "    </tr>\n",
       "  </thead>\n",
       "  <tbody>\n",
       "    <tr>\n",
       "      <th>0</th>\n",
       "      <td>7811264</td>\n",
       "      <td>afc-champions-league-knockout-stage</td>\n",
       "      <td>asia</td>\n",
       "      <td>AP</td>\n",
       "      <td>finished</td>\n",
       "    </tr>\n",
       "    <tr>\n",
       "      <th>1</th>\n",
       "      <td>7979684</td>\n",
       "      <td>serie-c-girone-c</td>\n",
       "      <td>italy</td>\n",
       "      <td>Ended</td>\n",
       "      <td>finished</td>\n",
       "    </tr>\n",
       "    <tr>\n",
       "      <th>2</th>\n",
       "      <td>7979686</td>\n",
       "      <td>serie-c-girone-c</td>\n",
       "      <td>italy</td>\n",
       "      <td>Canceled</td>\n",
       "      <td>canceled</td>\n",
       "    </tr>\n",
       "    <tr>\n",
       "      <th>3</th>\n",
       "      <td>7979685</td>\n",
       "      <td>serie-c-girone-c</td>\n",
       "      <td>italy</td>\n",
       "      <td>Ended</td>\n",
       "      <td>finished</td>\n",
       "    </tr>\n",
       "    <tr>\n",
       "      <th>4</th>\n",
       "      <td>7979681</td>\n",
       "      <td>serie-c-girone-c</td>\n",
       "      <td>italy</td>\n",
       "      <td>Canceled</td>\n",
       "      <td>canceled</td>\n",
       "    </tr>\n",
       "  </tbody>\n",
       "</table>\n",
       "</div>"
      ],
      "text/plain": [
       "        id                      tournament_slug tournament_category_slug  \\\n",
       "0  7811264  afc-champions-league-knockout-stage                     asia   \n",
       "1  7979684                     serie-c-girone-c                    italy   \n",
       "2  7979686                     serie-c-girone-c                    italy   \n",
       "3  7979685                     serie-c-girone-c                    italy   \n",
       "4  7979681                     serie-c-girone-c                    italy   \n",
       "\n",
       "  status_description status_type  \n",
       "0                 AP    finished  \n",
       "1              Ended    finished  \n",
       "2           Canceled    canceled  \n",
       "3              Ended    finished  \n",
       "4           Canceled    canceled  "
      ]
     },
     "execution_count": 59,
     "metadata": {},
     "output_type": "execute_result"
    }
   ],
   "source": [
    "events_df.head()"
   ]
  },
  {
   "cell_type": "code",
   "execution_count": 60,
   "metadata": {},
   "outputs": [
    {
     "data": {
      "text/plain": [
       "tournament_category_slug\n",
       "world                 32841\n",
       "england               27990\n",
       "italy                 20412\n",
       "turkey                20297\n",
       "germany-amateur       18648\n",
       "                      ...  \n",
       "dominican-republic        1\n",
       "belgium-amateur           1\n",
       "barbados                  1\n",
       "international             1\n",
       "french-guiana             1\n",
       "Name: count, Length: 177, dtype: int64"
      ]
     },
     "execution_count": 60,
     "metadata": {},
     "output_type": "execute_result"
    }
   ],
   "source": [
    "events_df['tournament_category_slug'].value_counts()"
   ]
  },
  {
   "cell_type": "code",
   "execution_count": 61,
   "metadata": {},
   "outputs": [],
   "source": [
    "countries_to_remove = {\n",
    "    'africa',\n",
    "    'asia',\n",
    "    'esoccer',\n",
    "    'europe',\n",
    "    'international',\n",
    "    'north-central-america',\n",
    "    'oceania',\n",
    "    'simulated-reality-women',\n",
    "    'south-africa',\n",
    "    'south-america',\n",
    "    'world'\n",
    "}"
   ]
  },
  {
   "cell_type": "code",
   "execution_count": 62,
   "metadata": {},
   "outputs": [],
   "source": [
    "events_df = events_df[~events_df['tournament_category_slug'].isin(countries_to_remove)]"
   ]
  },
  {
   "cell_type": "code",
   "execution_count": 63,
   "metadata": {},
   "outputs": [
    {
     "data": {
      "text/plain": [
       "tournament_category_slug\n",
       "england               27990\n",
       "italy                 20412\n",
       "turkey                20297\n",
       "germany-amateur       18648\n",
       "brazil                13246\n",
       "                      ...  \n",
       "djibouti                  1\n",
       "dominican-republic        1\n",
       "belgium-amateur           1\n",
       "barbados                  1\n",
       "french-guiana             1\n",
       "Name: count, Length: 166, dtype: int64"
      ]
     },
     "execution_count": 63,
     "metadata": {},
     "output_type": "execute_result"
    }
   ],
   "source": [
    "events_df['tournament_category_slug'].value_counts()"
   ]
  },
  {
   "cell_type": "code",
   "execution_count": 64,
   "metadata": {},
   "outputs": [
    {
     "data": {
      "text/html": [
       "<div>\n",
       "<style scoped>\n",
       "    .dataframe tbody tr th:only-of-type {\n",
       "        vertical-align: middle;\n",
       "    }\n",
       "\n",
       "    .dataframe tbody tr th {\n",
       "        vertical-align: top;\n",
       "    }\n",
       "\n",
       "    .dataframe thead th {\n",
       "        text-align: right;\n",
       "    }\n",
       "</style>\n",
       "<table border=\"1\" class=\"dataframe\">\n",
       "  <thead>\n",
       "    <tr style=\"text-align: right;\">\n",
       "      <th></th>\n",
       "      <th>tournament_category_slug</th>\n",
       "      <th>tournament_slug</th>\n",
       "      <th>count</th>\n",
       "    </tr>\n",
       "  </thead>\n",
       "  <tbody>\n",
       "    <tr>\n",
       "      <th>0</th>\n",
       "      <td>algeria</td>\n",
       "      <td>ligue-1</td>\n",
       "      <td>2315</td>\n",
       "    </tr>\n",
       "    <tr>\n",
       "      <th>1</th>\n",
       "      <td>argentina</td>\n",
       "      <td>liga-profesional</td>\n",
       "      <td>3189</td>\n",
       "    </tr>\n",
       "    <tr>\n",
       "      <th>2</th>\n",
       "      <td>argentina</td>\n",
       "      <td>primera-b-nacional</td>\n",
       "      <td>2397</td>\n",
       "    </tr>\n",
       "    <tr>\n",
       "      <th>3</th>\n",
       "      <td>belarus</td>\n",
       "      <td>vysshaya-league</td>\n",
       "      <td>2091</td>\n",
       "    </tr>\n",
       "    <tr>\n",
       "      <th>4</th>\n",
       "      <td>belgium</td>\n",
       "      <td>pro-league</td>\n",
       "      <td>2363</td>\n",
       "    </tr>\n",
       "  </tbody>\n",
       "</table>\n",
       "</div>"
      ],
      "text/plain": [
       "  tournament_category_slug     tournament_slug  count\n",
       "0                  algeria             ligue-1   2315\n",
       "1                argentina    liga-profesional   3189\n",
       "2                argentina  primera-b-nacional   2397\n",
       "3                  belarus     vysshaya-league   2091\n",
       "4                  belgium          pro-league   2363"
      ]
     },
     "execution_count": 64,
     "metadata": {},
     "output_type": "execute_result"
    }
   ],
   "source": [
    "selected_tournaments = events_df[['tournament_category_slug', 'tournament_slug', 'id']].groupby(['tournament_category_slug', 'tournament_slug'], as_index=False)['id'].count()\n",
    "selected_tournaments = selected_tournaments[selected_tournaments['id'] > 2000].reset_index(drop=True).rename(columns={'id': 'count'})\n",
    "selected_tournaments.head()"
   ]
  },
  {
   "cell_type": "code",
   "execution_count": 65,
   "metadata": {},
   "outputs": [],
   "source": [
    "selected_tournaments_set = (selected_tournaments['tournament_category_slug'] + selected_tournaments['tournament_slug']).values"
   ]
  },
  {
   "cell_type": "code",
   "execution_count": 66,
   "metadata": {},
   "outputs": [
    {
     "data": {
      "text/html": [
       "<div>\n",
       "<style scoped>\n",
       "    .dataframe tbody tr th:only-of-type {\n",
       "        vertical-align: middle;\n",
       "    }\n",
       "\n",
       "    .dataframe tbody tr th {\n",
       "        vertical-align: top;\n",
       "    }\n",
       "\n",
       "    .dataframe thead th {\n",
       "        text-align: right;\n",
       "    }\n",
       "</style>\n",
       "<table border=\"1\" class=\"dataframe\">\n",
       "  <thead>\n",
       "    <tr style=\"text-align: right;\">\n",
       "      <th></th>\n",
       "      <th>id</th>\n",
       "      <th>tournament_slug</th>\n",
       "      <th>tournament_category_slug</th>\n",
       "      <th>status_description</th>\n",
       "      <th>status_type</th>\n",
       "    </tr>\n",
       "  </thead>\n",
       "  <tbody>\n",
       "    <tr>\n",
       "      <th>0</th>\n",
       "      <td>7979684</td>\n",
       "      <td>serie-c-girone-c</td>\n",
       "      <td>italy</td>\n",
       "      <td>Ended</td>\n",
       "      <td>finished</td>\n",
       "    </tr>\n",
       "    <tr>\n",
       "      <th>1</th>\n",
       "      <td>7979686</td>\n",
       "      <td>serie-c-girone-c</td>\n",
       "      <td>italy</td>\n",
       "      <td>Canceled</td>\n",
       "      <td>canceled</td>\n",
       "    </tr>\n",
       "    <tr>\n",
       "      <th>2</th>\n",
       "      <td>7979685</td>\n",
       "      <td>serie-c-girone-c</td>\n",
       "      <td>italy</td>\n",
       "      <td>Ended</td>\n",
       "      <td>finished</td>\n",
       "    </tr>\n",
       "    <tr>\n",
       "      <th>3</th>\n",
       "      <td>7979681</td>\n",
       "      <td>serie-c-girone-c</td>\n",
       "      <td>italy</td>\n",
       "      <td>Canceled</td>\n",
       "      <td>canceled</td>\n",
       "    </tr>\n",
       "    <tr>\n",
       "      <th>4</th>\n",
       "      <td>8177688</td>\n",
       "      <td>brasileirao-serie-b</td>\n",
       "      <td>brazil</td>\n",
       "      <td>Ended</td>\n",
       "      <td>finished</td>\n",
       "    </tr>\n",
       "  </tbody>\n",
       "</table>\n",
       "</div>"
      ],
      "text/plain": [
       "        id      tournament_slug tournament_category_slug status_description  \\\n",
       "0  7979684     serie-c-girone-c                    italy              Ended   \n",
       "1  7979686     serie-c-girone-c                    italy           Canceled   \n",
       "2  7979685     serie-c-girone-c                    italy              Ended   \n",
       "3  7979681     serie-c-girone-c                    italy           Canceled   \n",
       "4  8177688  brasileirao-serie-b                   brazil              Ended   \n",
       "\n",
       "  status_type  \n",
       "0    finished  \n",
       "1    canceled  \n",
       "2    finished  \n",
       "3    canceled  \n",
       "4    finished  "
      ]
     },
     "execution_count": 66,
     "metadata": {},
     "output_type": "execute_result"
    }
   ],
   "source": [
    "events_df = events_df.loc[(events_df['tournament_category_slug'] + events_df['tournament_slug']).isin(selected_tournaments_set)]\n",
    "events_df = events_df.reset_index(drop=True)\n",
    "events_df.head()"
   ]
  },
  {
   "cell_type": "code",
   "execution_count": 67,
   "metadata": {},
   "outputs": [
    {
     "data": {
      "text/plain": [
       "(181373, 5)"
      ]
     },
     "execution_count": 67,
     "metadata": {},
     "output_type": "execute_result"
    }
   ],
   "source": [
    "events_df.shape"
   ]
  },
  {
   "cell_type": "code",
   "execution_count": 68,
   "metadata": {},
   "outputs": [
    {
     "data": {
      "text/plain": [
       "status_description\n",
       "Ended                172796\n",
       "Canceled               6202\n",
       "Postponed              2331\n",
       "Abandoned                15\n",
       "AP                       10\n",
       "Retired                   7\n",
       "Walkover                  7\n",
       "AET                       4\n",
       "Coverage canceled         1\n",
       "Name: count, dtype: int64"
      ]
     },
     "execution_count": 68,
     "metadata": {},
     "output_type": "execute_result"
    }
   ],
   "source": [
    "events_df['status_description'].value_counts()"
   ]
  },
  {
   "cell_type": "code",
   "execution_count": 69,
   "metadata": {},
   "outputs": [
    {
     "data": {
      "text/html": [
       "<div>\n",
       "<style scoped>\n",
       "    .dataframe tbody tr th:only-of-type {\n",
       "        vertical-align: middle;\n",
       "    }\n",
       "\n",
       "    .dataframe tbody tr th {\n",
       "        vertical-align: top;\n",
       "    }\n",
       "\n",
       "    .dataframe thead th {\n",
       "        text-align: right;\n",
       "    }\n",
       "</style>\n",
       "<table border=\"1\" class=\"dataframe\">\n",
       "  <thead>\n",
       "    <tr style=\"text-align: right;\">\n",
       "      <th></th>\n",
       "      <th>id</th>\n",
       "      <th>tournament_slug</th>\n",
       "      <th>tournament_category_slug</th>\n",
       "      <th>status_description</th>\n",
       "      <th>status_type</th>\n",
       "    </tr>\n",
       "  </thead>\n",
       "  <tbody>\n",
       "    <tr>\n",
       "      <th>0</th>\n",
       "      <td>7979684</td>\n",
       "      <td>serie-c-girone-c</td>\n",
       "      <td>italy</td>\n",
       "      <td>Ended</td>\n",
       "      <td>finished</td>\n",
       "    </tr>\n",
       "    <tr>\n",
       "      <th>1</th>\n",
       "      <td>7979685</td>\n",
       "      <td>serie-c-girone-c</td>\n",
       "      <td>italy</td>\n",
       "      <td>Ended</td>\n",
       "      <td>finished</td>\n",
       "    </tr>\n",
       "    <tr>\n",
       "      <th>2</th>\n",
       "      <td>8177688</td>\n",
       "      <td>brasileirao-serie-b</td>\n",
       "      <td>brazil</td>\n",
       "      <td>Ended</td>\n",
       "      <td>finished</td>\n",
       "    </tr>\n",
       "    <tr>\n",
       "      <th>3</th>\n",
       "      <td>7834147</td>\n",
       "      <td>mozzart-bet-superliga</td>\n",
       "      <td>serbia</td>\n",
       "      <td>Ended</td>\n",
       "      <td>finished</td>\n",
       "    </tr>\n",
       "    <tr>\n",
       "      <th>4</th>\n",
       "      <td>7834145</td>\n",
       "      <td>mozzart-bet-superliga</td>\n",
       "      <td>serbia</td>\n",
       "      <td>Ended</td>\n",
       "      <td>finished</td>\n",
       "    </tr>\n",
       "  </tbody>\n",
       "</table>\n",
       "</div>"
      ],
      "text/plain": [
       "        id        tournament_slug tournament_category_slug status_description  \\\n",
       "0  7979684       serie-c-girone-c                    italy              Ended   \n",
       "1  7979685       serie-c-girone-c                    italy              Ended   \n",
       "2  8177688    brasileirao-serie-b                   brazil              Ended   \n",
       "3  7834147  mozzart-bet-superliga                   serbia              Ended   \n",
       "4  7834145  mozzart-bet-superliga                   serbia              Ended   \n",
       "\n",
       "  status_type  \n",
       "0    finished  \n",
       "1    finished  \n",
       "2    finished  \n",
       "3    finished  \n",
       "4    finished  "
      ]
     },
     "execution_count": 69,
     "metadata": {},
     "output_type": "execute_result"
    }
   ],
   "source": [
    "events_df = events_df[events_df['status_description'].eq('Ended')]\n",
    "events_df = events_df.reset_index(drop=True)\n",
    "events_df.head()"
   ]
  },
  {
   "cell_type": "code",
   "execution_count": 70,
   "metadata": {},
   "outputs": [
    {
     "data": {
      "text/plain": [
       "(172796, 5)"
      ]
     },
     "execution_count": 70,
     "metadata": {},
     "output_type": "execute_result"
    }
   ],
   "source": [
    "events_df.shape"
   ]
  },
  {
   "cell_type": "code",
   "execution_count": 73,
   "metadata": {},
   "outputs": [
    {
     "data": {
      "text/html": [
       "<div>\n",
       "<style scoped>\n",
       "    .dataframe tbody tr th:only-of-type {\n",
       "        vertical-align: middle;\n",
       "    }\n",
       "\n",
       "    .dataframe tbody tr th {\n",
       "        vertical-align: top;\n",
       "    }\n",
       "\n",
       "    .dataframe thead th {\n",
       "        text-align: right;\n",
       "    }\n",
       "</style>\n",
       "<table border=\"1\" class=\"dataframe\">\n",
       "  <thead>\n",
       "    <tr style=\"text-align: right;\">\n",
       "      <th></th>\n",
       "      <th>id</th>\n",
       "    </tr>\n",
       "  </thead>\n",
       "  <tbody>\n",
       "    <tr>\n",
       "      <th>0</th>\n",
       "      <td>5617262</td>\n",
       "    </tr>\n",
       "    <tr>\n",
       "      <th>1</th>\n",
       "      <td>5617268</td>\n",
       "    </tr>\n",
       "    <tr>\n",
       "      <th>2</th>\n",
       "      <td>5646264</td>\n",
       "    </tr>\n",
       "    <tr>\n",
       "      <th>3</th>\n",
       "      <td>5646266</td>\n",
       "    </tr>\n",
       "    <tr>\n",
       "      <th>4</th>\n",
       "      <td>5646270</td>\n",
       "    </tr>\n",
       "  </tbody>\n",
       "</table>\n",
       "</div>"
      ],
      "text/plain": [
       "        id\n",
       "0  5617262\n",
       "1  5617268\n",
       "2  5646264\n",
       "3  5646266\n",
       "4  5646270"
      ]
     },
     "execution_count": 73,
     "metadata": {},
     "output_type": "execute_result"
    }
   ],
   "source": [
    "temp_df = events_df[['id']].sort_values('id').reset_index(drop=True)\n",
    "temp_df.head()"
   ]
  },
  {
   "cell_type": "code",
   "execution_count": 75,
   "metadata": {},
   "outputs": [],
   "source": [
    "temp_df.to_csv(os.path.join(RAW_DATA_DIR, 'download.csv'), index=False)"
   ]
  }
 ],
 "metadata": {
  "kernelspec": {
   "display_name": "venv",
   "language": "python",
   "name": "python3"
  },
  "language_info": {
   "codemirror_mode": {
    "name": "ipython",
    "version": 3
   },
   "file_extension": ".py",
   "mimetype": "text/x-python",
   "name": "python",
   "nbconvert_exporter": "python",
   "pygments_lexer": "ipython3",
   "version": "3.10.11"
  }
 },
 "nbformat": 4,
 "nbformat_minor": 2
}
