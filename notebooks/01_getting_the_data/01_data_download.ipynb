{
 "cells": [
  {
   "cell_type": "markdown",
   "metadata": {},
   "source": [
    "# Imports"
   ]
  },
  {
   "cell_type": "code",
   "execution_count": 1,
   "metadata": {},
   "outputs": [],
   "source": [
    "import os\n",
    "import sys\n",
    "import glob\n",
    "import datetime\n",
    "\n",
    "import pandas as pd"
   ]
  },
  {
   "cell_type": "code",
   "execution_count": 2,
   "metadata": {},
   "outputs": [
    {
     "name": "stderr",
     "output_type": "stream",
     "text": [
      "\u001b[32m2024-06-02 02:05:26.861\u001b[0m | \u001b[1mINFO    \u001b[0m | \u001b[36mconfig\u001b[0m:\u001b[36m<module>\u001b[0m:\u001b[36m11\u001b[0m - \u001b[1mPROJ_ROOT path is: /Users/maurycystopowski/Documents/Stuff/Projects/eventpredictor\u001b[0m\n",
      "\u001b[32m2024-06-02 02:05:26.876\u001b[0m | \u001b[1mINFO    \u001b[0m | \u001b[36meventpredictor.config\u001b[0m:\u001b[36m<module>\u001b[0m:\u001b[36m11\u001b[0m - \u001b[1mPROJ_ROOT path is: /Users/maurycystopowski/Documents/Stuff/Projects/eventpredictor\u001b[0m\n"
     ]
    }
   ],
   "source": [
    "sys.path.append(os.path.abspath('../../'))\n",
    "sys.path.append(os.path.abspath('../../eventpredictor'))\n",
    "\n",
    "import eventpredictor.config as paths\n",
    "from eventpredictor.data.download_data import FootballScraper as fs"
   ]
  },
  {
   "cell_type": "markdown",
   "metadata": {},
   "source": [
    "# Downloading data"
   ]
  },
  {
   "cell_type": "code",
   "execution_count": 3,
   "metadata": {},
   "outputs": [],
   "source": [
    "# Selected dates\n",
    "start_date=datetime.date(2015, 5, 31)\n",
    "end_date=datetime.date(2024, 1, 31)"
   ]
  },
  {
   "cell_type": "markdown",
   "metadata": {},
   "source": [
    "## Events"
   ]
  },
  {
   "cell_type": "code",
   "execution_count": 4,
   "metadata": {},
   "outputs": [
    {
     "name": "stdout",
     "output_type": "stream",
     "text": [
      "Downloading events data for period 2015-05-31 -> 2024-01-31 (3168 days)...\n"
     ]
    }
   ],
   "source": [
    "fs.download_events(\n",
    "    start_date=start_date,\n",
    "    end_date=end_date,\n",
    "    save_path=paths.SCHEDULED_EVENTS_JSON\n",
    ")"
   ]
  },
  {
   "cell_type": "code",
   "execution_count": 5,
   "metadata": {},
   "outputs": [
    {
     "name": "stdout",
     "output_type": "stream",
     "text": [
      "3168 .json files to be converted...\n",
      "3168 .json files converted and saved as .csv!\n"
     ]
    }
   ],
   "source": [
    "fs.convert_events(\n",
    "    source_dir=paths.SCHEDULED_EVENTS_JSON,\n",
    "    dest_dir=paths.SCHEDULED_EVENTS_CSV\n",
    ")"
   ]
  },
  {
   "cell_type": "code",
   "execution_count": 6,
   "metadata": {},
   "outputs": [
    {
     "name": "stdout",
     "output_type": "stream",
     "text": [
      "File scheduled_events.csv already exists at specified location.\n",
      "If you want to recreate it, pass 'force=True' as an argument.\n"
     ]
    }
   ],
   "source": [
    "fs.combine_events(\n",
    "    source_dir=paths.SCHEDULED_EVENTS_CSV,\n",
    "    dest_dir=paths.SCHEDULED_EVENTS,\n",
    "    output_file='scheduled_events.csv',\n",
    "    force=False\n",
    ")"
   ]
  },
  {
   "cell_type": "markdown",
   "metadata": {},
   "source": [
    "## Odds"
   ]
  },
  {
   "cell_type": "code",
   "execution_count": 7,
   "metadata": {},
   "outputs": [
    {
     "name": "stdout",
     "output_type": "stream",
     "text": [
      "Downloading events data for period 2015-05-31 -> 2024-01-31 (3168 days)...\n"
     ]
    }
   ],
   "source": [
    "fs.download_date_range_odds(\n",
    "    start_date=start_date,\n",
    "    end_date=end_date,\n",
    "    save_path=paths.ODDS_JSON\n",
    ")"
   ]
  },
  {
   "cell_type": "code",
   "execution_count": 8,
   "metadata": {},
   "outputs": [
    {
     "name": "stdout",
     "output_type": "stream",
     "text": [
      "3168 .json files to be converted...\n"
     ]
    },
    {
     "name": "stdout",
     "output_type": "stream",
     "text": [
      "3168 .json files converted and saved as .csv!\n"
     ]
    }
   ],
   "source": [
    "fs.conert_odds(\n",
    "    source_dir=paths.ODDS_JSON,\n",
    "    dest_dir=paths.ODDS_CSV\n",
    ")"
   ]
  },
  {
   "cell_type": "code",
   "execution_count": 9,
   "metadata": {},
   "outputs": [
    {
     "name": "stdout",
     "output_type": "stream",
     "text": [
      "File odds.csv already exists at specified location.\n",
      "If you want to recreate it, pass 'force=True' as an argument.\n"
     ]
    }
   ],
   "source": [
    "fs.combine_odds(\n",
    "    source_dir=paths.ODDS_CSV,\n",
    "    dest_dir=paths.ODDS,\n",
    "    output_file='odds.csv',\n",
    "    force=False\n",
    ")"
   ]
  },
  {
   "cell_type": "markdown",
   "metadata": {},
   "source": [
    "## Filtering events"
   ]
  },
  {
   "cell_type": "code",
   "execution_count": 10,
   "metadata": {},
   "outputs": [
    {
     "name": "stdout",
     "output_type": "stream",
     "text": [
      "File exists already.\n"
     ]
    }
   ],
   "source": [
    "countries_to_remove = {\n",
    "    'africa',\n",
    "    'asia',\n",
    "    'esoccer',\n",
    "    'europe',\n",
    "    'international',\n",
    "    'north-central-america',\n",
    "    'oceania',\n",
    "    'simulated-reality-women',\n",
    "    'south-africa',\n",
    "    'south-america',\n",
    "    'world'\n",
    "}\n",
    "\n",
    "status_to_keep = ['Ended']\n",
    "\n",
    "fs.generate_download_file(\n",
    "    save_dir=paths.RAW_DATA_DIR,\n",
    "    events_dir=paths.SCHEDULED_EVENTS,\n",
    "    output_file=\"to_download.csv\",\n",
    "    countries_to_remove=countries_to_remove,\n",
    "    status_to_keep=status_to_keep\n",
    ")"
   ]
  },
  {
   "cell_type": "markdown",
   "metadata": {},
   "source": [
    "## Statistics"
   ]
  },
  {
   "cell_type": "code",
   "execution_count": 11,
   "metadata": {},
   "outputs": [],
   "source": [
    "fs.download_statistics(\n",
    "    save_dir=paths.STATISTICS_JSON,\n",
    "    file_dir=paths.RAW_DATA_DIR\n",
    ")"
   ]
  },
  {
   "cell_type": "code",
   "execution_count": 12,
   "metadata": {},
   "outputs": [],
   "source": [
    "fs.convert_statistics(\n",
    "    source_dir=paths.STATISTICS_JSON,\n",
    "    dest_dir=paths.STATISTICS_CSV\n",
    ")"
   ]
  },
  {
   "cell_type": "code",
   "execution_count": 13,
   "metadata": {},
   "outputs": [
    {
     "name": "stdout",
     "output_type": "stream",
     "text": [
      "File statistics.csv already exists at specified location.\n",
      "If you want to recreate it, pass 'force=True' as an argument.\n"
     ]
    }
   ],
   "source": [
    "fs.combine_statistics(\n",
    "    source_dir=paths.STATISTICS_CSV,\n",
    "    dest_dir=paths.STATISTICS,\n",
    "    output_file='statistics.csv',\n",
    "    force=False\n",
    ")"
   ]
  },
  {
   "cell_type": "markdown",
   "metadata": {},
   "source": [
    "## Incidents"
   ]
  },
  {
   "cell_type": "code",
   "execution_count": 14,
   "metadata": {},
   "outputs": [],
   "source": [
    "fs.download_incidents(\n",
    "    save_dir=paths.INCIDENTS_JSON,\n",
    "    file_dir=paths.RAW_DATA_DIR\n",
    ")"
   ]
  },
  {
   "cell_type": "code",
   "execution_count": 15,
   "metadata": {},
   "outputs": [],
   "source": [
    "fs.convert_incidents(\n",
    "    source_dir=paths.INCIDENTS_JSON,\n",
    "    dest_dir=paths.INCIDENTS_CSV\n",
    ")"
   ]
  },
  {
   "cell_type": "code",
   "execution_count": 16,
   "metadata": {},
   "outputs": [
    {
     "name": "stdout",
     "output_type": "stream",
     "text": [
      "File incidents.csv already exists at specified location.\n",
      "If you want to recreate it, pass 'force=True' as an argument.\n"
     ]
    }
   ],
   "source": [
    "fs.combine_incidents(\n",
    "    source_dir=paths.INCIDENTS_CSV,\n",
    "    dest_dir=paths.INCIDENTS,\n",
    "    output_file='incidents.csv',\n",
    "    force=False\n",
    ")"
   ]
  },
  {
   "cell_type": "markdown",
   "metadata": {},
   "source": [
    "## Lineups"
   ]
  },
  {
   "cell_type": "code",
   "execution_count": 17,
   "metadata": {},
   "outputs": [],
   "source": [
    "fs.download_lineups(\n",
    "    save_dir=paths.LINEUPS_JSON,\n",
    "    file_dir=paths.RAW_DATA_DIR\n",
    ")"
   ]
  },
  {
   "cell_type": "code",
   "execution_count": 18,
   "metadata": {},
   "outputs": [],
   "source": [
    "fs.convert_lineups(\n",
    "    source_dir=paths.LINEUPS_JSON,\n",
    "    dest_dir=paths.LINEUPS_CSV\n",
    ")"
   ]
  },
  {
   "cell_type": "code",
   "execution_count": 19,
   "metadata": {},
   "outputs": [
    {
     "name": "stdout",
     "output_type": "stream",
     "text": [
      "File lineups.csv already exists at specified location.\n",
      "If you want to recreate it, pass 'force=True' as an argument.\n"
     ]
    }
   ],
   "source": [
    "fs.combine_lineups(\n",
    "    source_dir=paths.LINEUPS_CSV,\n",
    "    dest_dir=paths.LINEUPS,\n",
    "    output_file='lineups.csv',\n",
    "    force=False\n",
    ")"
   ]
  },
  {
   "cell_type": "markdown",
   "metadata": {},
   "source": [
    "# What has been downloaded?"
   ]
  },
  {
   "cell_type": "code",
   "execution_count": 21,
   "metadata": {},
   "outputs": [
    {
     "name": "stdout",
     "output_type": "stream",
     "text": [
      "Number of downloaded scheduled_events [json]: 3168\n",
      "Number of downloaded scheduled_events [csv]: 3168\n",
      "Number of downloaded odds [json]: 3168\n",
      "Number of downloaded odds [csv]: 3168\n",
      "Number of downloaded statistics [json]: 99771\n",
      "Number of downloaded statistics [csv]: 99771\n",
      "Number of downloaded incidents [json]: 170572\n",
      "Number of downloaded incidents [csv]: 170572\n",
      "Number of downloaded lineups [json]: 125401\n",
      "Number of downloaded lineups [csv]: 73577\n"
     ]
    }
   ],
   "source": [
    "print(f\"Number of downloaded scheduled_events [json]: {len(glob.glob(os.path.join(paths.SCHEDULED_EVENTS_JSON, '*')))}\")\n",
    "print(f\"Number of downloaded scheduled_events [csv]: {len(glob.glob(os.path.join(paths.SCHEDULED_EVENTS_CSV, '*')))}\")\n",
    "\n",
    "print(f\"Number of downloaded odds [json]: {len(glob.glob(os.path.join(paths.ODDS_JSON, '*')))}\")\n",
    "print(f\"Number of downloaded odds [csv]: {len(glob.glob(os.path.join(paths.ODDS_CSV, '*')))}\")\n",
    "\n",
    "print(f\"Number of downloaded statistics [json]: {len(glob.glob(os.path.join(paths.STATISTICS_JSON, '*')))}\")\n",
    "print(f\"Number of downloaded statistics [csv]: {len(glob.glob(os.path.join(paths.STATISTICS_CSV, '*')))}\")\n",
    "\n",
    "print(f\"Number of downloaded incidents [json]: {len(glob.glob(os.path.join(paths.INCIDENTS_JSON, '*')))}\")\n",
    "print(f\"Number of downloaded incidents [csv]: {len(glob.glob(os.path.join(paths.INCIDENTS_CSV, '*')))}\")\n",
    "\n",
    "print(f\"Number of downloaded lineups [json]: {len(glob.glob(os.path.join(paths.LINEUPS_JSON, '*')))}\")\n",
    "print(f\"Number of downloaded lineups [csv]: {len(glob.glob(os.path.join(paths.LINEUPS_CSV, '*')))}\")"
   ]
  }
 ],
 "metadata": {
  "kernelspec": {
   "display_name": "venv",
   "language": "python",
   "name": "python3"
  },
  "language_info": {
   "codemirror_mode": {
    "name": "ipython",
    "version": 3
   },
   "file_extension": ".py",
   "mimetype": "text/x-python",
   "name": "python",
   "nbconvert_exporter": "python",
   "pygments_lexer": "ipython3",
   "version": "3.10.11"
  }
 },
 "nbformat": 4,
 "nbformat_minor": 2
}
